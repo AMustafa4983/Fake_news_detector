{
 "cells": [
  {
   "attachments": {},
   "cell_type": "markdown",
   "metadata": {},
   "source": [
    "## Data Cleaning and Labeling"
   ]
  },
  {
   "cell_type": "code",
   "execution_count": 1,
   "metadata": {},
   "outputs": [],
   "source": [
    "\n",
    "import pandas as pd \n",
    "import numpy as np"
   ]
  },
  {
   "cell_type": "code",
   "execution_count": 2,
   "metadata": {},
   "outputs": [
    {
     "name": "stdout",
     "output_type": "stream",
     "text": [
      "d:\\Fake_news_detector\n"
     ]
    }
   ],
   "source": [
    "%cd .."
   ]
  },
  {
   "cell_type": "code",
   "execution_count": 3,
   "metadata": {},
   "outputs": [],
   "source": [
    "# df1 for Climatechange Feedback website\n",
    "# df2 for PoliticFace website\n",
    "df1 = pd.read_csv('datasets\\climatefeedback.csv')\n",
    "df2 = pd.read_csv('datasets\\politicfact.csv')"
   ]
  },
  {
   "cell_type": "code",
   "execution_count": 4,
   "metadata": {},
   "outputs": [],
   "source": [
    "labels1 = []\n",
    "for i in df1['class']:\n",
    "    labels1.append(i.split('/')[-1])\n",
    "\n",
    "df1['labels'] = labels1"
   ]
  },
  {
   "cell_type": "code",
   "execution_count": 5,
   "metadata": {},
   "outputs": [
    {
     "data": {
      "text/plain": [
       "labels\n",
       "HTag_Inaccurate.png          56\n",
       "HTag_Incorrect.png           51\n",
       "HTag_Misleading.png          16\n",
       "HTag_Unsupported.png         10\n",
       "HTag_Flawed_Reasoning.png     9\n",
       "HTag_Accurate.png             5\n",
       "HTag_Mostly_Accurate.png      3\n",
       "HTag_Mostly_Correct.png       3\n",
       "HTag_Imprecise.png            2\n",
       "HTag_Lacks_Context.png        2\n",
       "HTag_Correct.png              2\n",
       "HTag_Correct_But.png          1\n",
       "Name: count, dtype: int64"
      ]
     },
     "execution_count": 5,
     "metadata": {},
     "output_type": "execute_result"
    }
   ],
   "source": [
    "df1.labels.value_counts()"
   ]
  },
  {
   "cell_type": "code",
   "execution_count": 6,
   "metadata": {},
   "outputs": [],
   "source": [
    "for i in range(0,len(labels1)):\n",
    "    if labels1[i] == \"HTag_Incorrect.png\":\n",
    "        labels1[i] = 0\n",
    "    elif labels1[i] == \"HTag_Inaccurate.png\"or labels1[i] == \"HTag_Imprecise.png\" or labels1[i]== \"HTag_Lacks_Context.png\":\n",
    "        labels1[i] = 1\n",
    "    elif labels1[i] == \"HTag_Misleading.png\" or labels1[i] == \"HTag_Unsupported.png\":\n",
    "        labels1[i] = 1\n",
    "    elif labels1[i] == \"HTag_Flawed_Reasoning.png\" or labels1[i] == \"HTag_Imprecise.png \":\n",
    "        labels1[i] = 2\n",
    "    elif labels1[i] == \"HTag_Correct.png\" or labels1[i] == \"HTag_Correct_But.png\" or labels1[i] == \"HTag_Mostly_Correct.png\" or labels1[i] == \"HTag_Mostly_Accurate.png\" or labels1[i] == \"HTag_Accurate.png\":\n",
    "        labels1[i] = 2\n",
    "\n",
    "df1['labels'] = labels1"
   ]
  },
  {
   "cell_type": "code",
   "execution_count": 7,
   "metadata": {},
   "outputs": [
    {
     "data": {
      "text/plain": [
       "labels\n",
       "1    86\n",
       "0    51\n",
       "2    23\n",
       "Name: count, dtype: int64"
      ]
     },
     "execution_count": 7,
     "metadata": {},
     "output_type": "execute_result"
    }
   ],
   "source": [
    "df1.labels.value_counts()"
   ]
  },
  {
   "cell_type": "code",
   "execution_count": 8,
   "metadata": {},
   "outputs": [],
   "source": [
    "labels2 = []\n",
    "for i in df2['class']:\n",
    "    labels2.append(i.split('/')[-2])\n",
    "\n",
    "df2['labels'] = labels2"
   ]
  },
  {
   "cell_type": "code",
   "execution_count": 9,
   "metadata": {},
   "outputs": [
    {
     "data": {
      "text/plain": [
       "labels\n",
       "meter-false           1897\n",
       "meter-mostly-false    1855\n",
       "meter-half-true       1623\n",
       "meter-mostly-true     1320\n",
       "meter-true             849\n",
       "tom_ruling_pof         685\n",
       "meter-full-flop        153\n",
       "meter-half-flip         73\n",
       "meter-no-flip           22\n",
       "Name: count, dtype: int64"
      ]
     },
     "execution_count": 9,
     "metadata": {},
     "output_type": "execute_result"
    }
   ],
   "source": [
    "df2.labels.value_counts()"
   ]
  },
  {
   "cell_type": "code",
   "execution_count": 10,
   "metadata": {},
   "outputs": [],
   "source": [
    "for i in range(0,len(labels2)):\n",
    "    if labels2[i] == \"meter-false\" or labels2[i]==\"tom_ruling_pof\":\n",
    "        labels2[i] = 0\n",
    "    elif labels2[i] == \"meter-mostly-false\":\n",
    "        labels2[i] = 1\n",
    "    elif labels2[i] == \"meter-half-true\":\n",
    "        labels2[i] = 1\n",
    "    elif labels2[i] == \"meter-mostly-true\":\n",
    "        labels2[i] = 2\n",
    "    elif labels2[i] == \"meter-true\":\n",
    "        labels2[i] = 2\n",
    "    elif labels2[i] == \"meter-no-flip\" or labels2[i] == \"meter-half-flip\" or labels2[i] == \"meter-full-flop\":\n",
    "        labels2[i] = ''\n",
    "df2['labels'] = labels2"
   ]
  },
  {
   "cell_type": "code",
   "execution_count": 11,
   "metadata": {},
   "outputs": [
    {
     "data": {
      "text/plain": [
       "labels\n",
       "1    3478\n",
       "0    2582\n",
       "2    2169\n",
       "      248\n",
       "Name: count, dtype: int64"
      ]
     },
     "execution_count": 11,
     "metadata": {},
     "output_type": "execute_result"
    }
   ],
   "source": [
    "df2.labels.value_counts()"
   ]
  },
  {
   "cell_type": "code",
   "execution_count": 12,
   "metadata": {},
   "outputs": [],
   "source": [
    "df2 = df2[df2.labels != '']"
   ]
  },
  {
   "cell_type": "code",
   "execution_count": 13,
   "metadata": {},
   "outputs": [
    {
     "data": {
      "text/plain": [
       "labels\n",
       "1    3478\n",
       "0    2582\n",
       "2    2169\n",
       "Name: count, dtype: int64"
      ]
     },
     "execution_count": 13,
     "metadata": {},
     "output_type": "execute_result"
    }
   ],
   "source": [
    "df2.labels.value_counts()"
   ]
  },
  {
   "cell_type": "code",
   "execution_count": 14,
   "metadata": {},
   "outputs": [
    {
     "data": {
      "text/plain": [
       "Index(['Unnamed: 0', 'title', 'news', 'class', 'review', 'labels'], dtype='object')"
      ]
     },
     "execution_count": 14,
     "metadata": {},
     "output_type": "execute_result"
    }
   ],
   "source": [
    "df1.columns"
   ]
  },
  {
   "cell_type": "code",
   "execution_count": 15,
   "metadata": {},
   "outputs": [
    {
     "data": {
      "text/plain": [
       "Index(['Unnamed: 0', 'news', 'class', 'labels'], dtype='object')"
      ]
     },
     "execution_count": 15,
     "metadata": {},
     "output_type": "execute_result"
    }
   ],
   "source": [
    "df2.columns"
   ]
  },
  {
   "cell_type": "code",
   "execution_count": 16,
   "metadata": {},
   "outputs": [],
   "source": [
    "df1.drop(['Unnamed: 0','title','review','class'],axis=1,inplace=True)\n",
    "df2.drop(['Unnamed: 0','class'],axis=1,inplace=True)"
   ]
  },
  {
   "cell_type": "code",
   "execution_count": 17,
   "metadata": {},
   "outputs": [
    {
     "data": {
      "text/html": [
       "<div>\n",
       "<style scoped>\n",
       "    .dataframe tbody tr th:only-of-type {\n",
       "        vertical-align: middle;\n",
       "    }\n",
       "\n",
       "    .dataframe tbody tr th {\n",
       "        vertical-align: top;\n",
       "    }\n",
       "\n",
       "    .dataframe thead th {\n",
       "        text-align: right;\n",
       "    }\n",
       "</style>\n",
       "<table border=\"1\" class=\"dataframe\">\n",
       "  <thead>\n",
       "    <tr style=\"text-align: right;\">\n",
       "      <th></th>\n",
       "      <th>news</th>\n",
       "      <th>labels</th>\n",
       "    </tr>\n",
       "  </thead>\n",
       "  <tbody>\n",
       "    <tr>\n",
       "      <th>0</th>\n",
       "      <td>\\nMagnetic poles reversals involve the Earth f...</td>\n",
       "      <td>0</td>\n",
       "    </tr>\n",
       "    <tr>\n",
       "      <th>1</th>\n",
       "      <td>\\n“We have been cooling down for the past 4000...</td>\n",
       "      <td>1</td>\n",
       "    </tr>\n",
       "    <tr>\n",
       "      <th>2</th>\n",
       "      <td>\\nAntarctic sea-ice extent is increasing to re...</td>\n",
       "      <td>1</td>\n",
       "    </tr>\n",
       "    <tr>\n",
       "      <th>3</th>\n",
       "      <td>\\nChemtrails contain toxic substances such as ...</td>\n",
       "      <td>1</td>\n",
       "    </tr>\n",
       "    <tr>\n",
       "      <th>4</th>\n",
       "      <td>\\nClimate changed naturally in prehistoric era...</td>\n",
       "      <td>2</td>\n",
       "    </tr>\n",
       "  </tbody>\n",
       "</table>\n",
       "</div>"
      ],
      "text/plain": [
       "                                                news  labels\n",
       "0  \\nMagnetic poles reversals involve the Earth f...       0\n",
       "1  \\n“We have been cooling down for the past 4000...       1\n",
       "2  \\nAntarctic sea-ice extent is increasing to re...       1\n",
       "3  \\nChemtrails contain toxic substances such as ...       1\n",
       "4  \\nClimate changed naturally in prehistoric era...       2"
      ]
     },
     "execution_count": 17,
     "metadata": {},
     "output_type": "execute_result"
    }
   ],
   "source": [
    "df1.head()"
   ]
  },
  {
   "cell_type": "code",
   "execution_count": 18,
   "metadata": {},
   "outputs": [
    {
     "data": {
      "text/html": [
       "<div>\n",
       "<style scoped>\n",
       "    .dataframe tbody tr th:only-of-type {\n",
       "        vertical-align: middle;\n",
       "    }\n",
       "\n",
       "    .dataframe tbody tr th {\n",
       "        vertical-align: top;\n",
       "    }\n",
       "\n",
       "    .dataframe thead th {\n",
       "        text-align: right;\n",
       "    }\n",
       "</style>\n",
       "<table border=\"1\" class=\"dataframe\">\n",
       "  <thead>\n",
       "    <tr style=\"text-align: right;\">\n",
       "      <th></th>\n",
       "      <th>news</th>\n",
       "      <th>labels</th>\n",
       "    </tr>\n",
       "  </thead>\n",
       "  <tbody>\n",
       "    <tr>\n",
       "      <th>0</th>\n",
       "      <td>Donald Trump is an “affirmative action advocate.”</td>\n",
       "      <td>1</td>\n",
       "    </tr>\n",
       "    <tr>\n",
       "      <th>1</th>\n",
       "      <td>Video suggests COVID-19 vaccines are responsib...</td>\n",
       "      <td>0</td>\n",
       "    </tr>\n",
       "    <tr>\n",
       "      <th>2</th>\n",
       "      <td>NASA warns of “internet apocalypse,” which “me...</td>\n",
       "      <td>0</td>\n",
       "    </tr>\n",
       "    <tr>\n",
       "      <th>3</th>\n",
       "      <td>Kevin McCarthy “announces impeachment proceedi...</td>\n",
       "      <td>0</td>\n",
       "    </tr>\n",
       "    <tr>\n",
       "      <th>4</th>\n",
       "      <td>“Young Americans across this country are no lo...</td>\n",
       "      <td>1</td>\n",
       "    </tr>\n",
       "  </tbody>\n",
       "</table>\n",
       "</div>"
      ],
      "text/plain": [
       "                                                news labels\n",
       "0  Donald Trump is an “affirmative action advocate.”      1\n",
       "1  Video suggests COVID-19 vaccines are responsib...      0\n",
       "2  NASA warns of “internet apocalypse,” which “me...      0\n",
       "3  Kevin McCarthy “announces impeachment proceedi...      0\n",
       "4  “Young Americans across this country are no lo...      1"
      ]
     },
     "execution_count": 18,
     "metadata": {},
     "output_type": "execute_result"
    }
   ],
   "source": [
    "df2.head()"
   ]
  },
  {
   "cell_type": "code",
   "execution_count": 19,
   "metadata": {},
   "outputs": [
    {
     "name": "stdout",
     "output_type": "stream",
     "text": [
      "8389\n"
     ]
    }
   ],
   "source": [
    "print(len(df1)+len(df2))"
   ]
  },
  {
   "cell_type": "code",
   "execution_count": 20,
   "metadata": {},
   "outputs": [],
   "source": [
    "df = pd.concat([df1,df2])"
   ]
  },
  {
   "cell_type": "code",
   "execution_count": 21,
   "metadata": {},
   "outputs": [
    {
     "data": {
      "text/plain": [
       "labels\n",
       "1    3564\n",
       "0    2633\n",
       "2    2192\n",
       "Name: count, dtype: int64"
      ]
     },
     "execution_count": 21,
     "metadata": {},
     "output_type": "execute_result"
    }
   ],
   "source": [
    "df.labels.value_counts()"
   ]
  },
  {
   "cell_type": "code",
   "execution_count": 22,
   "metadata": {},
   "outputs": [
    {
     "data": {
      "text/html": [
       "<div>\n",
       "<style scoped>\n",
       "    .dataframe tbody tr th:only-of-type {\n",
       "        vertical-align: middle;\n",
       "    }\n",
       "\n",
       "    .dataframe tbody tr th {\n",
       "        vertical-align: top;\n",
       "    }\n",
       "\n",
       "    .dataframe thead th {\n",
       "        text-align: right;\n",
       "    }\n",
       "</style>\n",
       "<table border=\"1\" class=\"dataframe\">\n",
       "  <thead>\n",
       "    <tr style=\"text-align: right;\">\n",
       "      <th></th>\n",
       "      <th>news</th>\n",
       "      <th>labels</th>\n",
       "    </tr>\n",
       "  </thead>\n",
       "  <tbody>\n",
       "    <tr>\n",
       "      <th>0</th>\n",
       "      <td>\\nMagnetic poles reversals involve the Earth f...</td>\n",
       "      <td>0</td>\n",
       "    </tr>\n",
       "    <tr>\n",
       "      <th>1</th>\n",
       "      <td>\\n“We have been cooling down for the past 4000...</td>\n",
       "      <td>1</td>\n",
       "    </tr>\n",
       "    <tr>\n",
       "      <th>2</th>\n",
       "      <td>\\nAntarctic sea-ice extent is increasing to re...</td>\n",
       "      <td>1</td>\n",
       "    </tr>\n",
       "    <tr>\n",
       "      <th>3</th>\n",
       "      <td>\\nChemtrails contain toxic substances such as ...</td>\n",
       "      <td>1</td>\n",
       "    </tr>\n",
       "    <tr>\n",
       "      <th>4</th>\n",
       "      <td>\\nClimate changed naturally in prehistoric era...</td>\n",
       "      <td>2</td>\n",
       "    </tr>\n",
       "    <tr>\n",
       "      <th>...</th>\n",
       "      <td>...</td>\n",
       "      <td>...</td>\n",
       "    </tr>\n",
       "    <tr>\n",
       "      <th>8472</th>\n",
       "      <td>\"(McCain) was opposed to ethanol. Now he's for...</td>\n",
       "      <td>2</td>\n",
       "    </tr>\n",
       "    <tr>\n",
       "      <th>8473</th>\n",
       "      <td>\"(McCain) said he was opposed to overturning R...</td>\n",
       "      <td>1</td>\n",
       "    </tr>\n",
       "    <tr>\n",
       "      <th>8474</th>\n",
       "      <td>\"He's leading by example, refusing contributio...</td>\n",
       "      <td>1</td>\n",
       "    </tr>\n",
       "    <tr>\n",
       "      <th>8475</th>\n",
       "      <td>\"Roadside bombs are responsible for 70 percent...</td>\n",
       "      <td>2</td>\n",
       "    </tr>\n",
       "    <tr>\n",
       "      <th>8476</th>\n",
       "      <td>\"Barack Obama and Hillary Clinton have changed...</td>\n",
       "      <td>1</td>\n",
       "    </tr>\n",
       "  </tbody>\n",
       "</table>\n",
       "<p>8389 rows × 2 columns</p>\n",
       "</div>"
      ],
      "text/plain": [
       "                                                   news labels\n",
       "0     \\nMagnetic poles reversals involve the Earth f...      0\n",
       "1     \\n“We have been cooling down for the past 4000...      1\n",
       "2     \\nAntarctic sea-ice extent is increasing to re...      1\n",
       "3     \\nChemtrails contain toxic substances such as ...      1\n",
       "4     \\nClimate changed naturally in prehistoric era...      2\n",
       "...                                                 ...    ...\n",
       "8472  \"(McCain) was opposed to ethanol. Now he's for...      2\n",
       "8473  \"(McCain) said he was opposed to overturning R...      1\n",
       "8474  \"He's leading by example, refusing contributio...      1\n",
       "8475  \"Roadside bombs are responsible for 70 percent...      2\n",
       "8476  \"Barack Obama and Hillary Clinton have changed...      1\n",
       "\n",
       "[8389 rows x 2 columns]"
      ]
     },
     "execution_count": 22,
     "metadata": {},
     "output_type": "execute_result"
    }
   ],
   "source": [
    "df"
   ]
  },
  {
   "attachments": {},
   "cell_type": "markdown",
   "metadata": {},
   "source": [
    "## Start Data Preprocessing and Building The Model"
   ]
  },
  {
   "cell_type": "code",
   "execution_count": 56,
   "metadata": {},
   "outputs": [
    {
     "name": "stdout",
     "output_type": "stream",
     "text": [
      "Collecting nlpaug\n",
      "  Downloading nlpaug-1.1.11-py3-none-any.whl (410 kB)\n",
      "                                              0.0/410.5 kB ? eta -:--:--\n",
      "     --                                      30.7/410.5 kB 1.3 MB/s eta 0:00:01\n",
      "     -------                               81.9/410.5 kB 919.0 kB/s eta 0:00:01\n",
      "     -----------                            122.9/410.5 kB 1.0 MB/s eta 0:00:01\n",
      "     ------------------                     204.8/410.5 kB 1.2 MB/s eta 0:00:01\n",
      "     --------------------------             286.7/410.5 kB 1.3 MB/s eta 0:00:01\n",
      "     --------------------------------       348.2/410.5 kB 1.4 MB/s eta 0:00:01\n",
      "     -------------------------------------- 410.5/410.5 kB 1.3 MB/s eta 0:00:00\n",
      "Requirement already satisfied: numpy>=1.16.2 in c:\\users\\abdel\\appdata\\local\\programs\\python\\python310\\lib\\site-packages (from nlpaug) (1.23.5)\n",
      "Requirement already satisfied: pandas>=1.2.0 in c:\\users\\abdel\\appdata\\local\\programs\\python\\python310\\lib\\site-packages (from nlpaug) (2.0.2)\n",
      "Requirement already satisfied: requests>=2.22.0 in c:\\users\\abdel\\appdata\\local\\programs\\python\\python310\\lib\\site-packages (from nlpaug) (2.31.0)\n",
      "Collecting gdown>=4.0.0 (from nlpaug)\n",
      "  Downloading gdown-4.7.1-py3-none-any.whl (15 kB)\n",
      "Collecting filelock (from gdown>=4.0.0->nlpaug)\n",
      "  Using cached filelock-3.12.2-py3-none-any.whl (10 kB)\n",
      "Requirement already satisfied: six in c:\\users\\abdel\\appdata\\local\\programs\\python\\python310\\lib\\site-packages (from gdown>=4.0.0->nlpaug) (1.16.0)\n",
      "Requirement already satisfied: tqdm in c:\\users\\abdel\\appdata\\local\\programs\\python\\python310\\lib\\site-packages (from gdown>=4.0.0->nlpaug) (4.65.0)\n",
      "Requirement already satisfied: beautifulsoup4 in c:\\users\\abdel\\appdata\\local\\programs\\python\\python310\\lib\\site-packages (from gdown>=4.0.0->nlpaug) (4.12.2)\n",
      "Requirement already satisfied: python-dateutil>=2.8.2 in c:\\users\\abdel\\appdata\\local\\programs\\python\\python310\\lib\\site-packages (from pandas>=1.2.0->nlpaug) (2.8.2)\n",
      "Requirement already satisfied: pytz>=2020.1 in c:\\users\\abdel\\appdata\\local\\programs\\python\\python310\\lib\\site-packages (from pandas>=1.2.0->nlpaug) (2023.3)\n",
      "Requirement already satisfied: tzdata>=2022.1 in c:\\users\\abdel\\appdata\\local\\programs\\python\\python310\\lib\\site-packages (from pandas>=1.2.0->nlpaug) (2023.3)\n",
      "Requirement already satisfied: charset-normalizer<4,>=2 in c:\\users\\abdel\\appdata\\local\\programs\\python\\python310\\lib\\site-packages (from requests>=2.22.0->nlpaug) (3.1.0)\n",
      "Requirement already satisfied: idna<4,>=2.5 in c:\\users\\abdel\\appdata\\local\\programs\\python\\python310\\lib\\site-packages (from requests>=2.22.0->nlpaug) (3.4)\n",
      "Requirement already satisfied: urllib3<3,>=1.21.1 in c:\\users\\abdel\\appdata\\local\\programs\\python\\python310\\lib\\site-packages (from requests>=2.22.0->nlpaug) (1.26.16)\n",
      "Requirement already satisfied: certifi>=2017.4.17 in c:\\users\\abdel\\appdata\\local\\programs\\python\\python310\\lib\\site-packages (from requests>=2.22.0->nlpaug) (2023.5.7)\n",
      "Requirement already satisfied: soupsieve>1.2 in c:\\users\\abdel\\appdata\\local\\programs\\python\\python310\\lib\\site-packages (from beautifulsoup4->gdown>=4.0.0->nlpaug) (2.4.1)\n",
      "Requirement already satisfied: PySocks!=1.5.7,>=1.5.6 in c:\\users\\abdel\\appdata\\local\\programs\\python\\python310\\lib\\site-packages (from requests>=2.22.0->nlpaug) (1.7.1)\n",
      "Requirement already satisfied: colorama in c:\\users\\abdel\\appdata\\local\\programs\\python\\python310\\lib\\site-packages (from tqdm->gdown>=4.0.0->nlpaug) (0.4.6)\n",
      "Installing collected packages: filelock, gdown, nlpaug\n",
      "Successfully installed filelock-3.12.2 gdown-4.7.1 nlpaug-1.1.11\n"
     ]
    }
   ],
   "source": [
    "!pip install nlpaug"
   ]
  },
  {
   "cell_type": "code",
   "execution_count": 105,
   "metadata": {},
   "outputs": [
    {
     "name": "stderr",
     "output_type": "stream",
     "text": [
      "[nltk_data] Downloading package wordnet to\n",
      "[nltk_data]     C:\\Users\\abdel\\AppData\\Roaming\\nltk_data...\n",
      "[nltk_data] Downloading package omw-1.4 to\n",
      "[nltk_data]     C:\\Users\\abdel\\AppData\\Roaming\\nltk_data...\n",
      "[nltk_data] Downloading package averaged_perceptron_tagger to\n",
      "[nltk_data]     C:\\Users\\abdel\\AppData\\Roaming\\nltk_data...\n",
      "[nltk_data]   Unzipping taggers\\averaged_perceptron_tagger.zip.\n"
     ]
    }
   ],
   "source": [
    "import nlpaug.augmenter.word as naw\n",
    "\n",
    "aug = naw.SynonymAug(aug_src='wordnet')\n",
    "\n",
    "# Text data augmentation\n",
    "\n",
    "df_aug = aug.augment(list(df['news']))\n",
    "df_2 = pd.DataFrame({'news':np.asarray(df_aug),'labels':np.asarray(df['labels'])})\n",
    "df_copy = pd.concat([df,df_2])\n",
    "df_aug = aug.augment(list(df_copy['news']))\n",
    "df_2 = pd.DataFrame({'news':np.asarray(df_aug),'labels':np.asarray(df_copy['labels'])})\n",
    "df_copy = pd.concat([df_copy,df_2])\n",
    "df_copy.count()"
   ]
  },
  {
   "cell_type": "code",
   "execution_count": 140,
   "metadata": {},
   "outputs": [
    {
     "name": "stderr",
     "output_type": "stream",
     "text": [
      "[nltk_data] Downloading package stopwords to\n",
      "[nltk_data]     C:\\Users\\abdel\\AppData\\Roaming\\nltk_data...\n",
      "[nltk_data]   Package stopwords is already up-to-date!\n"
     ]
    },
    {
     "data": {
      "text/plain": [
       "True"
      ]
     },
     "execution_count": 140,
     "metadata": {},
     "output_type": "execute_result"
    }
   ],
   "source": [
    "# libraries help to clean texts \n",
    "import re\n",
    "import string\n",
    "import nltk\n",
    "from nltk.corpus import stopwords\n",
    "nltk.download('stopwords')"
   ]
  },
  {
   "cell_type": "code",
   "execution_count": 141,
   "metadata": {},
   "outputs": [],
   "source": [
    "def remove_english_stopwords(text):\n",
    "    stop_words = stopwords.words('english')\n",
    "    words = text.split()\n",
    "    filtered_sentence = ''\n",
    "    for word in words:\n",
    "        if word not in stop_words:\n",
    "            filtered_sentence = filtered_sentence + word + ' '\n",
    "    return filtered_sentence\n",
    "\n",
    "# Remove Punvtuation\n",
    "def remove_punctuation(text):\n",
    "    table = str.maketrans('','',string.punctuation)\n",
    "    words = text.split()\n",
    "    filtered_sentence = ''\n",
    "    for word in words:\n",
    "        word = word.translate(table)\n",
    "        filtered_sentence = filtered_sentence + word + ' '\n",
    "    return filtered_sentence\n",
    "\n",
    "# Normalize Text\n",
    "def normalize_english_text(text):\n",
    "    text = text.lower()\n",
    "    # get rid of urls\n",
    "    text = re.sub('https?://\\S+|www\\.\\S+', '', text)\n",
    "    # get rid of non words and extra spaces\n",
    "    text = re.sub('\\\\W', ' ', text)\n",
    "    text = re.sub('\\n', '', text)\n",
    "    text = re.sub(' +', ' ', text)\n",
    "    text = re.sub('^ ', '', text)\n",
    "    text = re.sub(' $', '', text)\n",
    "    return text\n",
    "\n",
    "def clean_english_text(text):\n",
    "    text = text.lower()\n",
    "    text = text.replace(',',' , ')\n",
    "    text = text.replace('.',' . ')\n",
    "    text = text.replace('/',' / ')\n",
    "    text = text.replace('@',' @ ')\n",
    "    text = text.replace('#',' # ')\n",
    "    text = text.replace('?',' ? ')\n",
    "    text = normalize_english_text(text)\n",
    "    text = remove_punctuation(text)\n",
    "    text = remove_english_stopwords(text)\n",
    "    return text\n"
   ]
  },
  {
   "cell_type": "code",
   "execution_count": 142,
   "metadata": {},
   "outputs": [],
   "source": [
    "df_copy['news'] = df_copy['news'].apply(clean_english_text)"
   ]
  },
  {
   "cell_type": "code",
   "execution_count": 143,
   "metadata": {},
   "outputs": [],
   "source": [
    "# important libraries for deep learning\n",
    "import tensorflow as tf \n",
    "from tensorflow import keras\n",
    "# for tokenizing texts\n",
    "from tensorflow.keras.preprocessing.text import Tokenizer\n",
    "# for text padding and truncating\n",
    "from tensorflow.keras.utils import pad_sequences\n",
    "# to split datasets\n",
    "from sklearn.model_selection import train_test_split\n",
    "\n",
    "# one hot encoding \n",
    "from sklearn.preprocessing import OneHotEncoder"
   ]
  },
  {
   "cell_type": "code",
   "execution_count": 144,
   "metadata": {},
   "outputs": [],
   "source": [
    "X_train, X_test, y_train, y_test = train_test_split(df_copy[\"news\"]\n",
    "                                                        , df_copy['labels']\n",
    "                                                        , test_size=0.2,\n",
    "                                                        random_state=42,\n",
    "                                                        shuffle=True)"
   ]
  },
  {
   "cell_type": "code",
   "execution_count": 145,
   "metadata": {},
   "outputs": [],
   "source": [
    "one = OneHotEncoder()\n",
    "y_train = one.fit_transform(np.asarray(y_train).reshape(-1,1)).toarray()\n",
    "y_test = one.transform(np.asarray(y_test).reshape(-1,1)).toarray()"
   ]
  },
  {
   "cell_type": "code",
   "execution_count": 146,
   "metadata": {},
   "outputs": [],
   "source": [
    "# important properties\n",
    "vocab_size = 10000\n",
    "max_length = 25\n",
    "\n",
    "trunc_type = 'post'\n",
    "padding_type = 'post'\n",
    "oov_tok = '<OOV>'"
   ]
  },
  {
   "cell_type": "code",
   "execution_count": 147,
   "metadata": {},
   "outputs": [],
   "source": [
    "tokenizer = Tokenizer(num_words=vocab_size, oov_token=oov_tok)\n",
    "tokenizer.fit_on_texts(X_train)"
   ]
  },
  {
   "cell_type": "code",
   "execution_count": 148,
   "metadata": {},
   "outputs": [],
   "source": [
    "#To Save conf execute this cell\n",
    "#Save Tokenizer Configuration\n",
    "import json \n",
    "import os \n",
    "\n",
    "tok_conf = tokenizer.to_json()\n",
    "\n",
    "os.mkdir('Output/')\n",
    "with open('Output/tok_conf.json', 'w') as outfile:\n",
    "    outfile.write(json.dumps(tok_conf))"
   ]
  },
  {
   "cell_type": "code",
   "execution_count": 149,
   "metadata": {},
   "outputs": [],
   "source": [
    "X_train = tokenizer.texts_to_sequences(X_train)\n",
    "X_test = tokenizer.texts_to_sequences(X_test)\n",
    "\n",
    "X_train = pad_sequences(X_train, maxlen=max_length,\n",
    "                         padding=padding_type,\n",
    "                         truncating=trunc_type)\n",
    "X_test = pad_sequences(X_test, maxlen=max_length,\n",
    "                         padding=padding_type,\n",
    "                         truncating=trunc_type)\n"
   ]
  },
  {
   "cell_type": "code",
   "execution_count": 150,
   "metadata": {},
   "outputs": [],
   "source": [
    "# for nn arch \n",
    "from tensorflow.keras import Sequential\n",
    "from tensorflow.keras.layers import Embedding, LSTM, Dense, Dropout\n",
    "from tensorflow.keras.callbacks import EarlyStopping"
   ]
  },
  {
   "cell_type": "code",
   "execution_count": 151,
   "metadata": {},
   "outputs": [],
   "source": [
    "def build_model():\n",
    "    model = Sequential()\n",
    "\n",
    "    model.add(Embedding(vocab_size, 64, input_length=max_length))\n",
    "    model.add(LSTM(64, return_sequences=True))\n",
    "    model.add(Dropout(0.2))  # Add dropout regularization\n",
    "\n",
    "    model.add(LSTM(64))\n",
    "    model.add(Dense(64, activation='relu'))\n",
    "    model.add(Dropout(0.2))  # Add dropout regularization\n",
    "\n",
    "    model.add(Dense(3, activation='softmax'))\n",
    "\n",
    "    model.compile(loss='categorical_crossentropy', optimizer='adam', metrics=['accuracy'])\n",
    "\n",
    "    early_stopping = EarlyStopping(monitor='val_loss', patience=3)  # Apply early stopping\n",
    "\n",
    "    return model, early_stopping"
   ]
  },
  {
   "cell_type": "code",
   "execution_count": 152,
   "metadata": {},
   "outputs": [],
   "source": [
    "model, early_stopping = build_model()"
   ]
  },
  {
   "cell_type": "code",
   "execution_count": 153,
   "metadata": {},
   "outputs": [
    {
     "name": "stdout",
     "output_type": "stream",
     "text": [
      "Model: \"sequential_3\"\n",
      "_________________________________________________________________\n",
      " Layer (type)                Output Shape              Param #   \n",
      "=================================================================\n",
      " embedding_3 (Embedding)     (None, 25, 64)            640000    \n",
      "                                                                 \n",
      " lstm_5 (LSTM)               (None, 25, 64)            33024     \n",
      "                                                                 \n",
      " dropout_4 (Dropout)         (None, 25, 64)            0         \n",
      "                                                                 \n",
      " lstm_6 (LSTM)               (None, 64)                33024     \n",
      "                                                                 \n",
      " dense_5 (Dense)             (None, 64)                4160      \n",
      "                                                                 \n",
      " dropout_5 (Dropout)         (None, 64)                0         \n",
      "                                                                 \n",
      " dense_6 (Dense)             (None, 3)                 195       \n",
      "                                                                 \n",
      "=================================================================\n",
      "Total params: 710,403\n",
      "Trainable params: 710,403\n",
      "Non-trainable params: 0\n",
      "_________________________________________________________________\n"
     ]
    }
   ],
   "source": [
    "model.summary()"
   ]
  },
  {
   "cell_type": "code",
   "execution_count": 154,
   "metadata": {},
   "outputs": [
    {
     "name": "stdout",
     "output_type": "stream",
     "text": [
      "Epoch 1/10\n",
      "755/755 [==============================] - 33s 38ms/step - loss: 0.9650 - accuracy: 0.5350 - val_loss: 0.8426 - val_accuracy: 0.6238\n",
      "Epoch 2/10\n",
      "755/755 [==============================] - 30s 39ms/step - loss: 0.6379 - accuracy: 0.7471 - val_loss: 0.6934 - val_accuracy: 0.7102\n",
      "Epoch 3/10\n",
      "755/755 [==============================] - 33s 44ms/step - loss: 0.4174 - accuracy: 0.8445 - val_loss: 0.6351 - val_accuracy: 0.7590\n",
      "Epoch 4/10\n",
      "755/755 [==============================] - 31s 41ms/step - loss: 0.2751 - accuracy: 0.8989 - val_loss: 0.6234 - val_accuracy: 0.7661\n",
      "Epoch 5/10\n",
      "755/755 [==============================] - 30s 39ms/step - loss: 0.1894 - accuracy: 0.9316 - val_loss: 0.6832 - val_accuracy: 0.7955\n",
      "Epoch 6/10\n",
      "755/755 [==============================] - 27s 36ms/step - loss: 0.1349 - accuracy: 0.9507 - val_loss: 0.6788 - val_accuracy: 0.8037\n",
      "Epoch 7/10\n",
      "755/755 [==============================] - 25s 33ms/step - loss: 0.1004 - accuracy: 0.9627 - val_loss: 0.7692 - val_accuracy: 0.8138\n"
     ]
    }
   ],
   "source": [
    "history = model.fit(X_train,y_train,epochs=10,validation_split=.1,callbacks=[early_stopping])"
   ]
  },
  {
   "cell_type": "code",
   "execution_count": 155,
   "metadata": {},
   "outputs": [
    {
     "name": "stdout",
     "output_type": "stream",
     "text": [
      "210/210 [==============================] - 2s 11ms/step - loss: 0.8409 - accuracy: 0.7923\n"
     ]
    },
    {
     "data": {
      "text/plain": [
       "[0.8409309387207031, 0.7923122644424438]"
      ]
     },
     "execution_count": 155,
     "metadata": {},
     "output_type": "execute_result"
    }
   ],
   "source": [
    "model.evaluate(np.asarray(X_test),np.asarray(y_test))"
   ]
  },
  {
   "cell_type": "code",
   "execution_count": 156,
   "metadata": {},
   "outputs": [
    {
     "data": {
      "image/png": "[encoded data removed]",
      "text/plain": [
       "<Figure size 640x480 with 1 Axes>"
      ]
     },
     "metadata": {},
     "output_type": "display_data"
    }
   ],
   "source": [
    "import matplotlib.pyplot as plt\n",
    "\n",
    "# summarize history for accuracy\n",
    "plt.plot(history.history['accuracy'])\n",
    "plt.title('english model accuracy')\n",
    "plt.ylabel('accuracy')\n",
    "plt.xlabel('epoch')\n",
    "plt.legend(['train', 'test'], loc='upper left')\n",
    "plt.show()"
   ]
  },
  {
   "cell_type": "code",
   "execution_count": 157,
   "metadata": {},
   "outputs": [
    {
     "name": "stdout",
     "output_type": "stream",
     "text": [
      "210/210 [==============================] - 3s 10ms/step\n"
     ]
    }
   ],
   "source": [
    "pred = model.predict(X_test)\n",
    "pred = one.inverse_transform(pred)\n",
    "test = one.inverse_transform(y_test)"
   ]
  },
  {
   "cell_type": "code",
   "execution_count": 161,
   "metadata": {},
   "outputs": [
    {
     "data": {
      "text/plain": [
       "array([[0],\n",
       "       [0],\n",
       "       [1],\n",
       "       ...,\n",
       "       [1],\n",
       "       [0],\n",
       "       [1]], dtype=object)"
      ]
     },
     "execution_count": 161,
     "metadata": {},
     "output_type": "execute_result"
    }
   ],
   "source": [
    "test"
   ]
  },
  {
   "cell_type": "code",
   "execution_count": 162,
   "metadata": {},
   "outputs": [
    {
     "data": {
      "text/plain": [
       "array([[0],\n",
       "       [0],\n",
       "       [1],\n",
       "       ...,\n",
       "       [1],\n",
       "       [1],\n",
       "       [1]], dtype=object)"
      ]
     },
     "execution_count": 162,
     "metadata": {},
     "output_type": "execute_result"
    }
   ],
   "source": [
    "pred"
   ]
  },
  {
   "cell_type": "code",
   "execution_count": 160,
   "metadata": {},
   "outputs": [
    {
     "data": {
      "text/plain": [
       "[Text(0, 0.5, '0'), Text(0, 1.5, '1'), Text(0, 2.5, '2')]"
      ]
     },
     "execution_count": 160,
     "metadata": {},
     "output_type": "execute_result"
    },
    {
     "data": {
      "image/png": "[encoded data removed]",
      "text/plain": [
       "<Figure size 1600x1000 with 2 Axes>"
      ]
     },
     "metadata": {},
     "output_type": "display_data"
    }
   ],
   "source": [
    "from sklearn.metrics import confusion_matrix\n",
    "import seaborn as sns\n",
    "\n",
    "\n",
    "matrix = confusion_matrix(test.astype('int'),pred.astype('int'), labels=[0,1,2])\n",
    "plt.figure(figsize=(16, 10))\n",
    "ax= plt.subplot()\n",
    "sns.heatmap(matrix, annot=True, ax = ax)\n",
    "\n",
    "# labels, title and ticks\n",
    "ax.set_xlabel('Predicted Labels (English)', size=20)\n",
    "ax.set_ylabel('True Labels', size=20)\n",
    "ax.set_title('Confusion Matrix', size=20) \n",
    "ax.xaxis.set_ticklabels([0,1,2], size=15)\n",
    "ax.yaxis.set_ticklabels([0,1,2], size=15)"
   ]
  },
  {
   "cell_type": "code",
   "execution_count": 163,
   "metadata": {},
   "outputs": [],
   "source": [
    "model.save('models/checkpoint_01.h5')"
   ]
  },
  {
   "cell_type": "code",
   "execution_count": null,
   "metadata": {},
   "outputs": [],
   "source": []
  }
 ],
 "metadata": {
  "kernelspec": {
   "display_name": "Python 3",
   "language": "python",
   "name": "python3"
  },
  "language_info": {
   "codemirror_mode": {
    "name": "ipython",
    "version": 3
   },
   "file_extension": ".py",
   "mimetype": "text/x-python",
   "name": "python",
   "nbconvert_exporter": "python",
   "pygments_lexer": "ipython3",
   "version": "3.10.0"
  },
  "orig_nbformat": 4
 },
 "nbformat": 4,
 "nbformat_minor": 2
}
